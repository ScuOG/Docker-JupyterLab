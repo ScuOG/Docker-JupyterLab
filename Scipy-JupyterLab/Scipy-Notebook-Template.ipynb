{
 "cells": [
  {
   "cell_type": "code",
   "execution_count": null,
   "id": "fc2142d3-b37a-46da-800d-1b047592d849",
   "metadata": {},
   "outputs": [],
   "source": [
    "import platform"
   ]
  },
  {
   "cell_type": "markdown",
   "id": "3f0d3232-eb46-4436-bf54-429e997b2760",
   "metadata": {},
   "source": [
    "# Check system"
   ]
  },
  {
   "cell_type": "code",
   "execution_count": null,
   "id": "ea9d63da-8614-482b-bd31-06a2d9f1faa9",
   "metadata": {},
   "outputs": [],
   "source": [
    "print(\"python version:\", platform.python_version())"
   ]
  }
 ],
 "metadata": {
  "kernelspec": {
   "display_name": "Python 3 (ipykernel)",
   "language": "python",
   "name": "python3"
  },
  "language_info": {
   "codemirror_mode": {
    "name": "ipython",
    "version": 3
   },
   "file_extension": ".py",
   "mimetype": "text/x-python",
   "name": "python",
   "nbconvert_exporter": "python",
   "pygments_lexer": "ipython3",
   "version": "3.11.6"
  }
 },
 "nbformat": 4,
 "nbformat_minor": 5
}
